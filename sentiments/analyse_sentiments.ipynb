{
 "metadata": {
  "language_info": {
   "codemirror_mode": {
    "name": "ipython",
    "version": 3
   },
   "file_extension": ".py",
   "mimetype": "text/x-python",
   "name": "python",
   "nbconvert_exporter": "python",
   "pygments_lexer": "ipython3",
   "version": "3.8.0"
  },
  "orig_nbformat": 2,
  "kernelspec": {
   "name": "python3",
   "display_name": "Python 3",
   "language": "python"
  }
 },
 "nbformat": 4,
 "nbformat_minor": 2,
 "cells": [
  {
   "source": [
    "# Analyse des sentiements liées aux entitées\n",
    "On souhaite ici compter le nombre de messages décrit comme \"positif\" et \"négatif\" comptenant une entitée\n"
   ],
   "cell_type": "markdown",
   "metadata": {}
  },
  {
   "cell_type": "code",
   "execution_count": 1,
   "metadata": {},
   "outputs": [
    {
     "output_type": "stream",
     "name": "stdout",
     "text": [
      "INFO:tensorflow:Enabling eager execution\n",
      "INFO:tensorflow:Enabling v2 tensorshape\n",
      "INFO:tensorflow:Enabling resource variables\n",
      "INFO:tensorflow:Enabling tensor equality\n",
      "INFO:tensorflow:Enabling control flow v2\n"
     ]
    }
   ],
   "source": [
    "import tensorflow\n",
    "import pandas as pd\n",
    "import numpy as np\n",
    "import json\n",
    "from transformers import TFCamembertForSequenceClassification\n",
    "import transformers.models.camembert.tokenization_camembert as tk"
   ]
  },
  {
   "source": [
    "### Chargement des messages et des entitées"
   ],
   "cell_type": "markdown",
   "metadata": {}
  },
  {
   "cell_type": "code",
   "execution_count": 84,
   "metadata": {},
   "outputs": [],
   "source": [
    "with open('./messages/20-04-2021_02-04-26__8225.json', encoding=\"utf8\") as f:\n",
    "  messages = json.load(f)\n",
    "\n",
    "with open('./entities/entities_4.json', encoding=\"utf8\") as f:\n",
    "  entities = json.load(f)"
   ]
  },
  {
   "source": [
    "### Récuparation de l'encodeur pour notre modèle"
   ],
   "cell_type": "markdown",
   "metadata": {}
  },
  {
   "cell_type": "code",
   "execution_count": 85,
   "metadata": {},
   "outputs": [],
   "source": [
    "tokenizer = tk.CamembertTokenizer.from_pretrained(\"jplu/tf-camembert-base\",do_lower_case=True)\n",
    "assert tokenizer != None\n",
    "\n",
    "def encode_msg(messages, tokenizer = tokenizer, max_length=80):\n",
    "    token_ids = np.zeros(shape=(len(messages), max_length),\n",
    "                         dtype=np.int32)\n",
    "    for i, msg in enumerate(messages):\n",
    "        encoded = tokenizer.encode(msg, max_length=max_length)\n",
    "        token_ids[i, 0:len(encoded)] = encoded\n",
    "    attention_mask = (token_ids != 0).astype(np.int32)\n",
    "    return {\"input_ids\": token_ids, \"attention_mask\": attention_mask}"
   ]
  },
  {
   "source": [
    "### Chargement de notre modèle fine-tuned"
   ],
   "cell_type": "markdown",
   "metadata": {}
  },
  {
   "cell_type": "code",
   "execution_count": 86,
   "metadata": {},
   "outputs": [
    {
     "output_type": "stream",
     "name": "stderr",
     "text": [
      "All model checkpoint layers were used when initializing TFCamembertForSequenceClassification.\n",
      "\n",
      "Some layers of TFCamembertForSequenceClassification were not initialized from the model checkpoint at jplu/tf-camembert-base and are newly initialized: ['classifier']\n",
      "You should probably TRAIN this model on a down-stream task to be able to use it for predictions and inference.\n"
     ]
    }
   ],
   "source": [
    "model = TFCamembertForSequenceClassification.from_pretrained(\"jplu/tf-camembert-base\")\n",
    "model.load_weights(\"./models_weights/f193_count8000_epo7_batch4_allo.h5\")"
   ]
  },
  {
   "source": [
    "### Pré-traitement de notre jeu de donnée\n",
    "On écarte les messages comptenant des liens, des gif et des enregistrement vocaux. On ne garde pas non plus les messages de moins de 2 caractères ainsi que les messages à plus de 120 caractères car le modèle a été entrainé sur des messages courts.\n",
    "\n",
    "On format aussi les données en ne gardant que le contenu et l'auteur du messages"
   ],
   "cell_type": "markdown",
   "metadata": {}
  },
  {
   "cell_type": "code",
   "execution_count": 87,
   "metadata": {},
   "outputs": [
    {
     "output_type": "stream",
     "name": "stdout",
     "text": [
      "6405 messages gardés\n"
     ]
    }
   ],
   "source": [
    "# entrée (messages) { who:.., what:.., when:.., feedback:.., whatType:..},{..},{..},..\n",
    "# sortie (messages_keep) [[what, who],[],..]\n",
    "\n",
    "def estMsgValide(message):\n",
    "    return (len(message) > 2\n",
    "    and len(message) < 120 \n",
    "    and \"http\" not in message \n",
    "    and \"GIPHY\" not in message \n",
    "    and \"Tenor GIF Keyboard\" not in message\n",
    "    and \"Écouter 0 :00 / 0 :00\" not in message)\n",
    "\n",
    "messages_keep = [[m['what'],m['who']] for m in messages if estMsgValide(m['what'])]\n",
    "\n",
    "df = pd.DataFrame(messages_keep,columns=['messages','auteur'])\n",
    "print(f\"{len(df)} messages gardés\")"
   ]
  },
  {
   "cell_type": "code",
   "execution_count": null,
   "metadata": {},
   "outputs": [],
   "source": [
    "### Prédiction des sentiements avec notre modèle"
   ]
  },
  {
   "cell_type": "code",
   "execution_count": 88,
   "metadata": {},
   "outputs": [
    {
     "output_type": "stream",
     "name": "stderr",
     "text": [
      "Truncation was not explicitly activated but `max_length` is provided a specific value, please use `truncation=True` to explicitly truncate examples to max length. Defaulting to 'longest_first' truncation strategy. If you encode pairs of sequences (GLUE-style) with the tokenizer you can select this strategy more precisely by providing a specific strategy to `truncation`.\n",
      "WARNING:tensorflow:The parameters `output_attentions`, `output_hidden_states` and `use_cache` cannot be updated when calling a model.They have to be set to True/False in the config object (i.e.: `config=XConfig.from_pretrained('name', output_attentions=True)`).\n",
      "WARNING:tensorflow:The parameter `return_dict` cannot be set in graph mode and will always be set to `True`.\n"
     ]
    },
    {
     "output_type": "execute_result",
     "data": {
      "text/plain": [
       "1    4511\n",
       "0    1894\n",
       "Name: sentiment, dtype: int64"
      ]
     },
     "metadata": {},
     "execution_count": 88
    }
   ],
   "source": [
    "# sortie [[what,who,sentiment],..]\n",
    "\n",
    "messages_array = df.iloc[:,0].values\n",
    "encoded_messages = encode_msg(messages_array)\n",
    "\n",
    "scores = model.predict(encoded_messages)\n",
    "sent_pred = np.argmax(scores['logits'], axis=1)\n",
    "df['sentiment'] = sent_pred\n",
    "\n",
    "df.head()"
   ]
  },
  {
   "cell_type": "code",
   "execution_count": 107,
   "metadata": {},
   "outputs": [
    {
     "output_type": "stream",
     "name": "stdout",
     "text": [
      "70.4% messages positifs (4511)\n29.6% messages négatifs (1894)\n"
     ]
    }
   ],
   "source": [
    "mneg = df.iloc[:,2].value_counts(0)[0]\n",
    "mpos = df.iloc[:,2].value_counts(0)[1]\n",
    "tot = mpos+mneg\n",
    "print(f\"{round(100 * mpos/tot,1)}% messages positifs ({mpos})\")\n",
    "print(f\"{round(100 * mneg/tot,1)}% messages négatifs ({mneg})\")"
   ]
  },
  {
   "source": [
    "### Coloration des entitées\n",
    "Association pour chaque entitées(groupe de mot) du nombre de messagse positif et négatif comptenant un des mots liées à l'entitée"
   ],
   "cell_type": "markdown",
   "metadata": {}
  },
  {
   "cell_type": "code",
   "execution_count": 90,
   "metadata": {},
   "outputs": [
    {
     "output_type": "stream",
     "name": "stdout",
     "text": [
      "Nombre de message contenant des entitées: 1656\n"
     ]
    }
   ],
   "source": [
    "# sortie [{entities: [n_positif,n_negatif,diff] }]\n",
    "\n",
    "def containOneOf(message,elements):\n",
    "    for e in elements:\n",
    "        if e in message.lower():\n",
    "            return True\n",
    "    return False\n",
    "\n",
    "entities_with_sentiment = {}\n",
    "\n",
    "n_sans_entity = 0\n",
    "for row in df.to_numpy():\n",
    "    sans_entity = True\n",
    "    for ent in entities:\n",
    "        if containOneOf(row[0],entities[ent]):\n",
    "            arr = np.array([0,0,0])\n",
    "            arr[row[2]] = 1\n",
    "            if ent not in entities_with_sentiment:\n",
    "                entities_with_sentiment[ent] = arr.tolist()\n",
    "            else:\n",
    "                entities_with_sentiment[ent] = (np.array(arr)+np.array(entities_with_sentiment[ent])).tolist()\n",
    "            sans_entity = False\n",
    "    if sans_entity:\n",
    "        n_sans_entity += 1\n",
    "\n",
    "print(f\"Nombre de message contenant une entitée: {len(messages_keep)-n_sans_entity}\")\n",
    "\n",
    "# ajout de la différence sentiement pos - neg\n",
    "for ent in entities_with_sentiment:\n",
    "    entities_with_sentiment[ent][2] = entities_with_sentiment[ent][1] - entities_with_sentiment[ent][0] \n",
    "\n",
    "# sauvegarde de l'analyse\n",
    "with open('analyse.json', 'w', encoding=\"utf8\") as fout:\n",
    "    json.dump(entities_with_sentiment, fout, ensure_ascii=False)"
   ]
  },
  {
   "source": [
    "### Convertion du dict en DataFrame pour visualiser le résultat\n",
    "Le résultat est visualisable dans df_senti"
   ],
   "cell_type": "markdown",
   "metadata": {}
  },
  {
   "cell_type": "code",
   "execution_count": 101,
   "metadata": {},
   "outputs": [
    {
     "output_type": "stream",
     "name": "stdout",
     "text": [
      "117\n"
     ]
    },
    {
     "output_type": "execute_result",
     "data": {
      "text/plain": [
       "       entity  negatif  positif  diff\n",
       "0      projet        8       15     7\n",
       "1      google        7       22    15\n",
       "2      albane        4       20    16\n",
       "3       alban        6       24    18\n",
       "4       virus        6       12     6\n",
       "..        ...      ...      ...   ...\n",
       "152   ricardo        1        3     2\n",
       "153    airbnb        3        5     2\n",
       "165  lespinet        1        3     2\n",
       "168   atelier        0        4     4\n",
       "170      emma        0        3     3\n",
       "\n",
       "[117 rows x 4 columns]"
      ],
      "text/html": "<div>\n<style scoped>\n    .dataframe tbody tr th:only-of-type {\n        vertical-align: middle;\n    }\n\n    .dataframe tbody tr th {\n        vertical-align: top;\n    }\n\n    .dataframe thead th {\n        text-align: right;\n    }\n</style>\n<table border=\"1\" class=\"dataframe\">\n  <thead>\n    <tr style=\"text-align: right;\">\n      <th></th>\n      <th>entity</th>\n      <th>negatif</th>\n      <th>positif</th>\n      <th>diff</th>\n    </tr>\n  </thead>\n  <tbody>\n    <tr>\n      <th>0</th>\n      <td>projet</td>\n      <td>8</td>\n      <td>15</td>\n      <td>7</td>\n    </tr>\n    <tr>\n      <th>1</th>\n      <td>google</td>\n      <td>7</td>\n      <td>22</td>\n      <td>15</td>\n    </tr>\n    <tr>\n      <th>2</th>\n      <td>albane</td>\n      <td>4</td>\n      <td>20</td>\n      <td>16</td>\n    </tr>\n    <tr>\n      <th>3</th>\n      <td>alban</td>\n      <td>6</td>\n      <td>24</td>\n      <td>18</td>\n    </tr>\n    <tr>\n      <th>4</th>\n      <td>virus</td>\n      <td>6</td>\n      <td>12</td>\n      <td>6</td>\n    </tr>\n    <tr>\n      <th>...</th>\n      <td>...</td>\n      <td>...</td>\n      <td>...</td>\n      <td>...</td>\n    </tr>\n    <tr>\n      <th>152</th>\n      <td>ricardo</td>\n      <td>1</td>\n      <td>3</td>\n      <td>2</td>\n    </tr>\n    <tr>\n      <th>153</th>\n      <td>airbnb</td>\n      <td>3</td>\n      <td>5</td>\n      <td>2</td>\n    </tr>\n    <tr>\n      <th>165</th>\n      <td>lespinet</td>\n      <td>1</td>\n      <td>3</td>\n      <td>2</td>\n    </tr>\n    <tr>\n      <th>168</th>\n      <td>atelier</td>\n      <td>0</td>\n      <td>4</td>\n      <td>4</td>\n    </tr>\n    <tr>\n      <th>170</th>\n      <td>emma</td>\n      <td>0</td>\n      <td>3</td>\n      <td>3</td>\n    </tr>\n  </tbody>\n</table>\n<p>117 rows × 4 columns</p>\n</div>"
     },
     "metadata": {},
     "execution_count": 101
    }
   ],
   "source": [
    "# conversion dictionnaire en list\n",
    "entities_with_sentiment_list = []\n",
    "for key in entities_with_sentiment:\n",
    "    temp = [key,entities_with_sentiment[key][0],entities_with_sentiment[key][1],entities_with_sentiment[key][2]]\n",
    "    entities_with_sentiment_list.append(temp)\n",
    "\n",
    "# conversion list en dataframe + trie\n",
    "df_senti = pd.DataFrame(entities_with_sentiment_list,columns=[\"entity\",\"negatif\",\"positif\",\"diff\"])\n",
    "\n",
    "df_senti.sort_values(by=[\"diff\"],ascending=False)\n",
    "index = df_senti[df_senti[\"positif\"]+df_senti[\"negatif\"] <= 2].index\n",
    "df_senti = df_senti.drop(index)\n",
    "print(f\"{len(df_senti)} entitées apparaissent au moins 3 fois dans le corpus\")\n",
    "df_senti"
   ]
  },
  {
   "cell_type": "code",
   "execution_count": 61,
   "metadata": {},
   "outputs": [
    {
     "output_type": "execute_result",
     "data": {
      "text/plain": [
       "[0, 1, 1, 2, 4, 4, 7, 9]"
      ]
     },
     "metadata": {},
     "execution_count": 61
    }
   ],
   "source": [
    "def trie_fusion(L):\n",
    "    if len(L) <= 1:\n",
    "        return L\n",
    "    else:\n",
    "        n = int(len(L)/2)\n",
    "        return fusion(trie_fusion(L[:n]),trie_fusion(L[n:]))\n",
    "\n",
    "def fusion(A,B):\n",
    "    if len(A) == 0:\n",
    "        return B\n",
    "    elif len(B) == 0:\n",
    "        return A\n",
    "    elif A[0] <= B[0]:\n",
    "        return [A[0]] + fusion(A[1:],B)\n",
    "    else:\n",
    "        return [B[0]] + fusion(A,B[1:])\n",
    "\n",
    "trie_fusion(L)\n"
   ]
  }
 ]
}